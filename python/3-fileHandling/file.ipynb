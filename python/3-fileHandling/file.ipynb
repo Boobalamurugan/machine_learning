{
 "cells": [
  {
   "cell_type": "markdown",
   "metadata": {},
   "source": [
    "### File Operation - Read and Write Files\n",
    "\n",
    "File handling is crucial part of any programming language. Python provide bulit-in function and methods to read and write files and more..  "
   ]
  },
  {
   "cell_type": "code",
   "execution_count": 7,
   "metadata": {},
   "outputs": [
    {
     "name": "stdout",
     "output_type": "stream",
     "text": [
      "\n",
      "hello world\n"
     ]
    }
   ],
   "source": [
    "## read a whole file \n",
    "\n",
    "with open(\"example.txt\",'r')as file:\n",
    "    read=file.read()\n",
    "    print(read)"
   ]
  },
  {
   "cell_type": "code",
   "execution_count": 8,
   "metadata": {},
   "outputs": [
    {
     "name": "stdout",
     "output_type": "stream",
     "text": [
      "\n",
      "hello world\n"
     ]
    }
   ],
   "source": [
    "## read a file line by line\n",
    "\n",
    "with open(\"example.txt\",'r') as file:\n",
    "    for line in file:\n",
    "        print(line.strip()) ## strip is used to remove the newline charater"
   ]
  },
  {
   "cell_type": "code",
   "execution_count": 9,
   "metadata": {},
   "outputs": [
    {
     "name": "stdout",
     "output_type": "stream",
     "text": [
      "i am writing\n",
      "next line\n"
     ]
    }
   ],
   "source": [
    "## write a file(Overwriting)\n",
    "\n",
    "with open('example.txt','w')as file:\n",
    "    file.write(\"i am writing\\n\")\n",
    "    file.write(\"next line\")\n",
    "    \n",
    "\n",
    "with open('example.txt','r') as file:\n",
    "    read=file.read()\n",
    "    print(read) ## Contant of file"
   ]
  },
  {
   "cell_type": "code",
   "execution_count": 10,
   "metadata": {},
   "outputs": [],
   "source": [
    "## write a file(without overwriting)\n",
    "\n",
    "with open('example.txt','a')as file:\n",
    "    file.write(\"\\nthis add in the contant of file without overwriting\\n\")\n",
    "   \n"
   ]
  },
  {
   "cell_type": "code",
   "execution_count": 11,
   "metadata": {},
   "outputs": [],
   "source": [
    "## writing a list of line two a file\n",
    "\n",
    "lst=[\"first line\\n\",\"second line\\n\",\"third line\\n\"]\n",
    "\n",
    "# with open('example.txt','a')as file:\n",
    "#     for line in lst:\n",
    "#         file.write(line)\n",
    "#         \n",
    "\n",
    "with open('example.txt','a')as file:\n",
    "    file.writelines(lst)"
   ]
  },
  {
   "cell_type": "code",
   "execution_count": 64,
   "metadata": {},
   "outputs": [
    {
     "data": {
      "text/plain": [
       "'0b1111001'"
      ]
     },
     "execution_count": 64,
     "metadata": {},
     "output_type": "execute_result"
    }
   ],
   "source": [
    "bin(121)"
   ]
  },
  {
   "cell_type": "code",
   "execution_count": 69,
   "metadata": {},
   "outputs": [
    {
     "name": "stdout",
     "output_type": "stream",
     "text": [
      "b'0b1111011'\n"
     ]
    }
   ],
   "source": [
    "data=b'0b1111011'\n",
    "\n",
    "with open('example.bin','wb')as file:\n",
    "    file.write(data)\n",
    "\n",
    "with open('example.bin','rb')as file:\n",
    "    text=file.read()\n",
    "    print(text)\n"
   ]
  },
  {
   "cell_type": "code",
   "execution_count": 12,
   "metadata": {},
   "outputs": [],
   "source": [
    "### read the content from a file and write into another file \n",
    "\n",
    "with open(\"example.txt\",'r')as file:\n",
    "    content=file.read()\n",
    "\n",
    "with open(\"newfile.txt\",'w')as file:\n",
    "    file.write(content)\n",
    "\n"
   ]
  },
  {
   "cell_type": "code",
   "execution_count": 13,
   "metadata": {},
   "outputs": [
    {
     "name": "stdout",
     "output_type": "stream",
     "text": [
      "Line :6, Word :20, Char :109 \n"
     ]
    }
   ],
   "source": [
    "### Read a text file and count the nmber of lines,words,and charaters.\n",
    "\n",
    "def count_file(file_path):\n",
    "    with open(file_path,'r')as file:\n",
    "        lines=file.readlines()\n",
    "        linne_count=len(lines)\n",
    "        word_count=sum(len(line.split()) for line in lines)\n",
    "        char_count=sum(len(line) for line in lines)\n",
    "    return linne_count,word_count,char_count\n",
    "\n",
    "file_path=\"example.txt\"\n",
    "line,word,char=count_file(file_path)    \n",
    "print(f'Line :{line}, Word :{word}, Char :{char} ')\n"
   ]
  },
  {
   "cell_type": "code",
   "execution_count": 17,
   "metadata": {},
   "outputs": [
    {
     "name": "stdout",
     "output_type": "stream",
     "text": [
      "hello world\n",
      "hello world\n"
     ]
    }
   ],
   "source": [
    "## Writing and read the file\n",
    "\n",
    "with open('example.txt','w+')as file:\n",
    "    file.write(\"hello world\")\n",
    "    file.write(\"\\nhello world\")\n",
    "\n",
    "    ##move the curse to begin for reading\n",
    "    file.seek(0)\n",
    "\n",
    "    print(file.read())\n",
    "\n",
    "\n"
   ]
  },
  {
   "cell_type": "markdown",
   "metadata": {},
   "source": [
    "### file_path\n"
   ]
  },
  {
   "cell_type": "code",
   "execution_count": 1,
   "metadata": {},
   "outputs": [
    {
     "name": "stdout",
     "output_type": "stream",
     "text": [
      "current working dir /home/navee/Udemy/machine_learning/python/3-fileHandling\n"
     ]
    }
   ],
   "source": [
    "import os \n",
    "HOME=os.getcwd()\n",
    "print(f\"current working dir {HOME}\")"
   ]
  },
  {
   "cell_type": "code",
   "execution_count": 4,
   "metadata": {},
   "outputs": [
    {
     "name": "stdout",
     "output_type": "stream",
     "text": [
      "NEW DIR OR FOLDER example_folder\n"
     ]
    }
   ],
   "source": [
    "## create a new package\n",
    "\n",
    "new_dir='example_folder'\n",
    "os.mkdir(new_dir)\n",
    "print(f\"NEW DIR OR FOLDER {new_dir}\")"
   ]
  },
  {
   "cell_type": "code",
   "execution_count": 7,
   "metadata": {},
   "outputs": [
    {
     "name": "stdout",
     "output_type": "stream",
     "text": [
      "['example_folder', 'example.bin', 'example.txt', 'file.ipynb', 'newfile.txt']\n"
     ]
    }
   ],
   "source": [
    "## listing file and dir\n",
    "\n",
    "items=os.listdir('.')\n",
    "print(items)"
   ]
  },
  {
   "cell_type": "code",
   "execution_count": 10,
   "metadata": {},
   "outputs": [
    {
     "name": "stdout",
     "output_type": "stream",
     "text": [
      "/home/navee/Udemy/machine_learning/python/3-fileHandling/example_folder/main.py\n"
     ]
    }
   ],
   "source": [
    "### joining the path\n",
    "\n",
    "dir_name='example_folder'\n",
    "file_name='main.py'\n",
    "full_path=os.path.join(HOME,dir_name,file_name)\n",
    "print(full_path)"
   ]
  },
  {
   "cell_type": "code",
   "execution_count": 11,
   "metadata": {},
   "outputs": [
    {
     "name": "stdout",
     "output_type": "stream",
     "text": [
      "example_folder is exists\n"
     ]
    }
   ],
   "source": [
    "## checking the path is present or not\n",
    "\n",
    "path='example_folder'\n",
    "if os.path.exists(path):\n",
    "    print(f'{path} is exists')\n",
    "else:\n",
    "    print(f'{path} is not exists')"
   ]
  },
  {
   "cell_type": "code",
   "execution_count": 13,
   "metadata": {},
   "outputs": [
    {
     "name": "stdout",
     "output_type": "stream",
     "text": [
      "example_older is not exists\n"
     ]
    }
   ],
   "source": [
    "## checking the path is file or directory\n",
    "\n",
    "path='example_folder'\n",
    "\n",
    "if os.path.isfile(path):\n",
    "    print(f'{path} is file')\n",
    "\n",
    "elif os.path.isdir(path):\n",
    "    print(f'{path} is directroy')\n",
    "\n",
    "else:\n",
    "    print(f'{path} is not exists')\n",
    "\n",
    "\n"
   ]
  },
  {
   "cell_type": "code",
   "execution_count": 14,
   "metadata": {},
   "outputs": [
    {
     "name": "stdout",
     "output_type": "stream",
     "text": [
      "absolute_path : /home/navee/Udemy/machine_learning/python/3-fileHandling/example.bin\n"
     ]
    }
   ],
   "source": [
    "## getting absolute path\n",
    "\n",
    "path='example.bin'\n",
    "\n",
    "absolute_path=os.path.abspath(path)\n",
    "\n",
    "print(f\"absolute_path : {absolute_path}\")"
   ]
  },
  {
   "cell_type": "code",
   "execution_count": null,
   "metadata": {},
   "outputs": [],
   "source": []
  }
 ],
 "metadata": {
  "kernelspec": {
   "display_name": "Python 3",
   "language": "python",
   "name": "python3"
  },
  "language_info": {
   "codemirror_mode": {
    "name": "ipython",
    "version": 3
   },
   "file_extension": ".py",
   "mimetype": "text/x-python",
   "name": "python",
   "nbconvert_exporter": "python",
   "pygments_lexer": "ipython3",
   "version": "3.10.12"
  }
 },
 "nbformat": 4,
 "nbformat_minor": 2
}
