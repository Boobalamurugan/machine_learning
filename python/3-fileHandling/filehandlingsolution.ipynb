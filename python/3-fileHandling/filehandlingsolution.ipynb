{
 "cells": [
  {
   "cell_type": "markdown",
   "metadata": {},
   "source": [
    "# Module: File Handling Assignments\n",
    "## Lesson: File Handling and Operations\n",
    "### Assignment 1: Reading a File\n",
    "\n",
    "Write a function that reads the contents of a file named `sample.txt` and prints each line."
   ]
  },
  {
   "cell_type": "code",
   "execution_count": 1,
   "id": "55b045ef",
   "metadata": {},
   "outputs": [
    {
     "name": "stdout",
     "output_type": "stream",
     "text": [
      "naveen\n",
      "sri\n",
      "pratheep\n"
     ]
    }
   ],
   "source": [
    "def read_file(file_path):\n",
    "    with open(file_path,'r') as file:\n",
    "        for line in file:\n",
    "            print(line.strip())\n",
    "\n",
    "read_file('example.txt')"
   ]
  },
  {
   "cell_type": "markdown",
   "metadata": {},
   "source": [
    "### Assignment 2: Writing to a File\n",
    "\n",
    "Write a function that writes a list of strings to a file named `output.txt`, with each string on a new line."
   ]
  },
  {
   "cell_type": "code",
   "execution_count": 2,
   "id": "04fd822c",
   "metadata": {},
   "outputs": [],
   "source": [
    "lst=[\"naveen\",\"sri\",\"pratheep\"]\n",
    "\n",
    "def write_file(lst,file_name):\n",
    "    with open(file_name,'w') as file:\n",
    "        for string in lst:\n",
    "            file.write(string+'\\n')\n",
    "\n",
    "write_file(lst,'example.txt')"
   ]
  },
  {
   "cell_type": "markdown",
   "metadata": {},
   "source": [
    "### Assignment 3: Copying a File\n",
    "\n",
    "Write a function that copies the contents of a file named `source.txt` to a new file named `destination.txt`."
   ]
  },
  {
   "cell_type": "code",
   "execution_count": 1,
   "id": "bb596ef5",
   "metadata": {},
   "outputs": [],
   "source": [
    "def cpy_file(source_file,destination_file):\n",
    "    with open(source_file,'r') as read_file:\n",
    "        with open(destination_file,'w') as write_file:\n",
    "            write_file.write(read_file.read())\n",
    "            \n",
    "cpy_file('example.txt','newfile.txt')"
   ]
  },
  {
   "cell_type": "markdown",
   "metadata": {},
   "source": [
    "### Assignment 4: Appending to a File\n",
    "\n",
    "Write a function that appends a given string to the end of a file named `log.txt`."
   ]
  },
  {
   "cell_type": "code",
   "execution_count": 4,
   "id": "e26112e6",
   "metadata": {},
   "outputs": [],
   "source": [
    "def append(file_name,text):\n",
    "    with open(file_name,'a')as file:\n",
    "        file.write(text+'\\n')\n",
    "\n",
    "append('example.txt','i am naveen')"
   ]
  },
  {
   "cell_type": "markdown",
   "metadata": {},
   "source": [
    "### Assignment 5: Counting Words in a File\n",
    "\n",
    "Write a function that reads the contents of a file named `document.txt` and returns the number of words in the file."
   ]
  },
  {
   "cell_type": "code",
   "execution_count": 8,
   "id": "869ca813",
   "metadata": {},
   "outputs": [
    {
     "data": {
      "text/plain": [
       "8"
      ]
     },
     "execution_count": 8,
     "metadata": {},
     "output_type": "execute_result"
    }
   ],
   "source": [
    "def count_words(file_name):\n",
    "    with open(file_name,'r')as file:\n",
    "        text=file.read()\n",
    "        word=text.split()\n",
    "        return len(word)\n",
    "    \n",
    "    \n",
    "count_words('example.txt')"
   ]
  },
  {
   "cell_type": "markdown",
   "metadata": {},
   "source": [
    "### Assignment 6: Finding and Replacing Text\n",
    "\n",
    "Write a function that finds and replaces all occurrences of a given word in a file named `data.txt` with another word."
   ]
  },
  {
   "cell_type": "code",
   "execution_count": 16,
   "id": "5c0527f8",
   "metadata": {},
   "outputs": [],
   "source": [
    "def find_and_replace(file_name,old_word,new_word):\n",
    "    with open(file_name,'r')as file:\n",
    "        text=file.read()\n",
    "        new_text=text.replace(old_word,new_word)\n",
    "    with open(file_name,'w')as file:\n",
    "        file.write(new_text)\n",
    "    \n",
    "find_and_replace('example.txt', 'sri', 'naveen')\n"
   ]
  },
  {
   "cell_type": "markdown",
   "metadata": {},
   "source": [
    "### Assignment 7: Reading a File in Reverse\n",
    "\n",
    "Write a function that reads the contents of a file named `reverse.txt` and prints each line in reverse order."
   ]
  },
  {
   "cell_type": "code",
   "execution_count": 13,
   "id": "3b1e61d1",
   "metadata": {},
   "outputs": [
    {
     "name": "stdout",
     "output_type": "stream",
     "text": [
      "i am naveen\n",
      "i am naveen\n",
      "new new\n",
      "pratheep\n",
      "naveen\n",
      "naveen\n"
     ]
    }
   ],
   "source": [
    "def read_reverse(file_name):\n",
    "    with open(file_name,'r')as file:\n",
    "        text=file.read()\n",
    "        print(text[::-1])\n",
    "def readLine_reverse(file_name):\n",
    "    with open(file_name,'r')as file:\n",
    "        lines=file.readlines()\n",
    "    for line in lines[::-1]:\n",
    "        print(line.strip())\n",
    "\n",
    "# read_reverse('example.txt')\n",
    "readLine_reverse('example.txt')"
   ]
  },
  {
   "cell_type": "markdown",
   "metadata": {},
   "source": [
    "### Assignment 8: Counting Lines, Words, and Characters\n",
    "\n",
    "Write a function that reads the contents of a file named `stats.txt` and returns the number of lines, words, and characters in the file."
   ]
  },
  {
   "cell_type": "code",
   "execution_count": 4,
   "id": "e40ed098",
   "metadata": {},
   "outputs": [
    {
     "data": {
      "text/plain": [
       "(6, 11, 55)"
      ]
     },
     "execution_count": 4,
     "metadata": {},
     "output_type": "execute_result"
    }
   ],
   "source": [
    "def count_LWC(file_path):\n",
    "    with open(file_path,'r')as file:\n",
    "        lines=file.readlines()\n",
    "        words=sum(len(word.split()) for word in lines)\n",
    "        chars=sum(len(char) for char in lines)\n",
    "        return len(lines),words,chars\n",
    "    \n",
    "count_LWC(\"example.txt\")\n"
   ]
  },
  {
   "cell_type": "markdown",
   "metadata": {},
   "source": [
    "### Assignment 9: Merging Multiple Files\n",
    "\n",
    "Write a function that merges the contents of multiple files into a single file named `merged.txt`."
   ]
  },
  {
   "cell_type": "code",
   "execution_count": 6,
   "id": "267c1547",
   "metadata": {},
   "outputs": [],
   "source": [
    "file_list=[\"example.bin\",'example.txt']\n",
    "output_file='newfile.txt'\n",
    "\n",
    "def merge(file_list,output_file):\n",
    "    with open(output_file,\"w\")as file_write:\n",
    "        for file in file_list:\n",
    "            with open(file,\"r\")as file_read:\n",
    "                text=file_read.read()\n",
    "                file_write.write(text+\"\\n\")\n",
    "\n",
    "merge(file_list,output_file)"
   ]
  },
  {
   "cell_type": "markdown",
   "metadata": {},
   "source": [
    "### Assignment 10: Splitting a Large File\n",
    "\n",
    "Write a function that splits a large file named `large.txt` into smaller files of 100 lines each."
   ]
  },
  {
   "cell_type": "code",
   "execution_count": 19,
   "id": "9a2c4d40",
   "metadata": {},
   "outputs": [],
   "source": [
    "# create a large file \n",
    "\n",
    "def create_large_file(number_of_line,file_name):\n",
    "    with open(file_name,'w')as file:\n",
    "        for line in range(number_of_line):\n",
    "            file.write(str(line) + \"\\n\")\n",
    "\n",
    "create_large_file(500,\"large.txt\")\n",
    "\n",
    "## now split the large file into small files\n",
    "\n",
    "def split_file(file_name,line_per_file):\n",
    "    with open(file_name,'r')as read_file:\n",
    "        lines=read_file.readlines()\n",
    "    for i in range(0,len(lines),line_per_file):\n",
    "        with open(f\"{file_name}_part{i//line_per_file+1}.txt\",'w')as write_file:\n",
    "            write_file.writelines(lines[i:i+line_per_file])\n",
    "\n",
    "split_file('large.txt',250)\n"
   ]
  },
  {
   "cell_type": "markdown",
   "metadata": {},
   "source": [
    "### Assignment 11: Creating a Log File\n",
    "\n",
    "Write a function that creates a log file named `activity.log` and writes log messages with timestamps."
   ]
  },
  {
   "cell_type": "code",
   "execution_count": 22,
   "id": "6273ff95",
   "metadata": {},
   "outputs": [],
   "source": [
    "import datetime\n",
    "\n",
    "def activity(file_name,msg):\n",
    "    timestamp=datetime.datetime.now().isoformat()\n",
    "    with open(file_name,'w')as file:\n",
    "        file.write(f\"[{timestamp}] {msg}\\n\")\n",
    "\n",
    "activity('example.txt',\"i am naveen\")"
   ]
  },
  {
   "cell_type": "markdown",
   "metadata": {},
   "source": [
    "### Assignment 12: Binary File Operations\n",
    "\n",
    "Write a function that reads a binary file named `image.bin` and writes its contents to another binary file named `copy_image.bin`."
   ]
  },
  {
   "cell_type": "code",
   "execution_count": null,
   "metadata": {},
   "outputs": [],
   "source": [
    "def copy_binary_file(source, destination):\n",
    "    with open(source, 'rb') as src:\n",
    "        with open(destination, 'wb') as dest:\n",
    "            dest.write(src.read())\n",
    "\n",
    "# Test\n",
    "# copy_binary_file('image.bin', 'copy_image.bin')"
   ]
  },
  {
   "cell_type": "markdown",
   "metadata": {},
   "source": [
    "### Assignment 13: CSV File Operations\n",
    "\n",
    "Write a function that reads a CSV file named `data.csv` and prints its contents as a list of dictionaries."
   ]
  },
  {
   "cell_type": "code",
   "execution_count": 26,
   "id": "f4ef757f",
   "metadata": {},
   "outputs": [
    {
     "data": {
      "text/plain": [
       "[{'name': 'naveen', 'age': '21', 'college': 'kiot'},\n",
       " {'name': 'sri', 'age': '21', 'college': 'law'}]"
      ]
     },
     "execution_count": 26,
     "metadata": {},
     "output_type": "execute_result"
    }
   ],
   "source": [
    "import csv\n",
    "\n",
    "def csv_file_operation(file_name):\n",
    "    with open(file_name,'r')as file:\n",
    "        reader=csv.DictReader(file)\n",
    "        return list(reader)\n",
    "\n",
    "csv_file_operation('example.csv')\n"
   ]
  },
  {
   "cell_type": "markdown",
   "metadata": {},
   "source": [
    "### Assignment 14: JSON File Operations\n",
    "\n",
    "Write a function that reads a JSON file named `data.json` and prints its contents as a Python dictionary."
   ]
  },
  {
   "cell_type": "code",
   "execution_count": 28,
   "id": "27a7a3c9",
   "metadata": {},
   "outputs": [
    {
     "data": {
      "text/plain": [
       "{'name': 'naveen', 'age': 12}"
      ]
     },
     "execution_count": 28,
     "metadata": {},
     "output_type": "execute_result"
    }
   ],
   "source": [
    "import json\n",
    "\n",
    "def json_to_pyDict(file_name):\n",
    "    with open(file_name,'r')as file:\n",
    "        reader=json.load(file)\n",
    "        return reader\n",
    "\n",
    "json_to_pyDict('example.json')"
   ]
  },
  {
   "cell_type": "markdown",
   "metadata": {},
   "source": [
    "### Assignment 15: File Permission Handling\n",
    "\n",
    "Write a function that attempts to read a file named `protected.txt` and handles any permission errors gracefully by printing an error message."
   ]
  },
  {
   "cell_type": "markdown",
   "id": "d1be4896",
   "metadata": {},
   "source": [
    "`chmod 200 txtfile.txt ## for write only owner permission`\n",
    "\n",
    "`chmod 600 txtfile.txt ## for write and read only owner permission`\n"
   ]
  },
  {
   "cell_type": "code",
   "execution_count": 36,
   "id": "38f18e44",
   "metadata": {},
   "outputs": [
    {
     "name": "stdout",
     "output_type": "stream",
     "text": [
      "PermissionError:[Errno 13] Permission denied: 'txtfile.txt'\n"
     ]
    }
   ],
   "source": [
    "def read_protected_file(filename):\n",
    "    try:\n",
    "        with open(filename,'r')as file:\n",
    "            return file.read()\n",
    "    except PermissionError as e:\n",
    "        print(f\"PermissionError:{e}\")\n",
    "\n",
    "read_protected_file(\"txtfile.txt\")\n"
   ]
  }
 ],
 "metadata": {
  "kernelspec": {
   "display_name": "Python 3",
   "language": "python",
   "name": "python3"
  },
  "language_info": {
   "codemirror_mode": {
    "name": "ipython",
    "version": 3
   },
   "file_extension": ".py",
   "mimetype": "text/x-python",
   "name": "python",
   "nbconvert_exporter": "python",
   "pygments_lexer": "ipython3",
   "version": "3.10.12"
  }
 },
 "nbformat": 4,
 "nbformat_minor": 5
}
