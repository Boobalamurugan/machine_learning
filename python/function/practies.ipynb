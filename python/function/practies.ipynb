{
 "cells": [
  {
   "cell_type": "markdown",
   "metadata": {},
   "source": [
    "###  Function Practices Section"
   ]
  },
  {
   "cell_type": "markdown",
   "metadata": {},
   "source": [
    "Example 1: Temperature Conversion"
   ]
  },
  {
   "cell_type": "code",
   "execution_count": 6,
   "metadata": {},
   "outputs": [
    {
     "name": "stdout",
     "output_type": "stream",
     "text": [
      "89.6\n",
      "192.2\n",
      "Please provid valuable input\n"
     ]
    }
   ],
   "source": [
    "def tempConv(temp,unit):\n",
    "    if(unit==\"c\"):\n",
    "        return temp*9/5 + 32 # celsius to faherheit\n",
    "    elif(unit==\"f\"):\n",
    "        return (temp-32)*5/9 # faherheit to celsius \n",
    "    else:\n",
    "        return \"Please provid valuable input\"\n",
    "\n",
    "print(tempConv(32,\"c\"))\n",
    "print(tempConv(89,\"c\"))\n",
    "print(tempConv(32,\"a\"))\n"
   ]
  },
  {
   "cell_type": "markdown",
   "metadata": {},
   "source": [
    "Example 2 : Password Strength Checker"
   ]
  },
  {
   "cell_type": "code",
   "execution_count": 10,
   "metadata": {},
   "outputs": [
    {
     "data": {
      "text/plain": [
       "True"
      ]
     },
     "execution_count": 10,
     "metadata": {},
     "output_type": "execute_result"
    }
   ],
   "source": [
    "def passwordChecker(password):\n",
    "    if(len(password)<8):\n",
    "        return False\n",
    "    if not any(char.isdigit() for char in password):\n",
    "        return False\n",
    "    if not any(char.islower()  for char in password):\n",
    "        return False\n",
    "    if not any(char.isupper()  for char in password):\n",
    "        return False\n",
    "    if not any(char in \"~!@#$%^&*()_-+\"  for char in password):\n",
    "        return False\n",
    "    return True\n",
    "    \n",
    "        \n",
    "passwordChecker(\"090807_Naveen\")"
   ]
  },
  {
   "cell_type": "markdown",
   "metadata": {},
   "source": [
    "Example 3 : Calculate the total cost of items in a shopping cart"
   ]
  },
  {
   "cell_type": "code",
   "execution_count": 13,
   "metadata": {},
   "outputs": [
    {
     "data": {
      "text/plain": [
       "27.7"
      ]
     },
     "execution_count": 13,
     "metadata": {},
     "output_type": "execute_result"
    }
   ],
   "source": [
    "def calculateCost(cart):\n",
    "    totalCost=0\n",
    "    for item in cart:\n",
    "        totalCost+=item[\"price\"]*item[\"count\"]\n",
    "    return totalCost\n",
    "\n",
    "cart=[\n",
    "    {\"name\":\"apple\",\"price\":0.9,\"count\":3},\n",
    "    {\"name\":\"banana\",\"price\":1.9,\"count\":4},\n",
    "    {\"name\":\"sweets\",\"price\":2.9,\"count\":6},\n",
    "    ]\n",
    "\n",
    "calculateCost(cart)"
   ]
  },
  {
   "cell_type": "markdown",
   "metadata": {},
   "source": [
    "Example 4: Check If the string is palindrome"
   ]
  },
  {
   "cell_type": "code",
   "execution_count": 16,
   "metadata": {},
   "outputs": [
    {
     "data": {
      "text/plain": [
       "True"
      ]
     },
     "execution_count": 16,
     "metadata": {},
     "output_type": "execute_result"
    }
   ],
   "source": [
    "def palindromeCheck(str):\n",
    "    # i=0\n",
    "    # j=len(str)-1\n",
    "    # while(i<j):\n",
    "    #     if(str[i]!=str[j]):\n",
    "    #         return False\n",
    "    #     i+=1\n",
    "    #     j-=1\n",
    "    #     return True\n",
    "\n",
    "    str=str.lower().replace(\" \",\"\")\n",
    "    return str==str[::-1]\n",
    "\n",
    "palindromeCheck(\"mommom\")\n",
    "    "
   ]
  },
  {
   "cell_type": "markdown",
   "metadata": {},
   "source": [
    "Example 5: Calculate the factorials of a number using recursion"
   ]
  },
  {
   "cell_type": "code",
   "execution_count": 7,
   "metadata": {},
   "outputs": [
    {
     "data": {
      "text/plain": [
       "120"
      ]
     },
     "execution_count": 7,
     "metadata": {},
     "output_type": "execute_result"
    }
   ],
   "source": [
    "def fac(num):\n",
    "    if(num==0):\n",
    "        return 1\n",
    "    \n",
    "    return num*fac(num-1)\n",
    "    \n",
    "fac(5)"
   ]
  },
  {
   "cell_type": "markdown",
   "metadata": {},
   "source": [
    "Example 6: A function read a file and return the frequency of each word"
   ]
  },
  {
   "cell_type": "code",
   "execution_count": 32,
   "metadata": {},
   "outputs": [
    {
     "name": "stdout",
     "output_type": "stream",
     "text": [
      "ipykernel\n",
      "==\n",
      "6.29.5\n",
      "matplotlib\n",
      "==\n",
      "3.9.1\n",
      "numpy==2.0.1\n",
      "pandas==2.2.2\n",
      "plotly==5.23.0\n",
      "scikit-learn==1.5.1\n",
      "scipy==1.14.0\n",
      "seaborn==0.13.2\n"
     ]
    },
    {
     "data": {
      "text/plain": [
       "{'ipykernel': 1,\n",
       " '==': 2,\n",
       " '6.29.5': 1,\n",
       " 'matplotlib': 1,\n",
       " '3.9.1': 1,\n",
       " 'numpy==2.0.1': 1,\n",
       " 'pandas==2.2.2': 1,\n",
       " 'plotly==5.23.0': 1,\n",
       " 'scikit-learn==1.5.1': 1,\n",
       " 'scipy==1.14.0': 1,\n",
       " 'seaborn==0.13.2': 1}"
      ]
     },
     "execution_count": 32,
     "metadata": {},
     "output_type": "execute_result"
    }
   ],
   "source": [
    "def frequencyOfWords(file_path):\n",
    "    word_count = {}\n",
    "    with open(file_path, \"r\") as f:\n",
    "        text = f.read()\n",
    "    \n",
    "    text = text.split()\n",
    "    for word in text:\n",
    "        word = word.lower().strip(\"~!@#$%^&*()_+[]\")\n",
    "        if word in word_count:\n",
    "            word_count[word] = word_count[word] + 1\n",
    "        else:\n",
    "            word_count[word] = 1\n",
    "    \n",
    "    return word_count\n",
    "    \n",
    "\n",
    "frequencyOfWords(\"/home/navee/Udemy/machine_learning/requirements.txt\")"
   ]
  },
  {
   "cell_type": "markdown",
   "metadata": {},
   "source": [
    "Example 7: Email Validation function"
   ]
  },
  {
   "cell_type": "code",
   "execution_count": 40,
   "metadata": {},
   "outputs": [
    {
     "name": "stdout",
     "output_type": "stream",
     "text": [
      "['2k21aids07@kiot.ac.in']\n",
      "True\n",
      "False\n"
     ]
    }
   ],
   "source": [
    "import re\n",
    "def findemail(text):\n",
    "\n",
    "    patten=r'[a-zA-Z0-9._+%-]+@[[a-zA-Z0-9.-]+\\.[a-zA-Z]{2,}'\n",
    "    return re.findall(patten,text) #to find the email patten in text\n",
    "\n",
    "def emailCheck(text):\n",
    "    patten=r'[a-zA-Z0-9._+%-]+@[[a-zA-Z0-9.-]+\\.[a-zA-Z]{2,}'\n",
    "    return bool(re.match(patten, text))\n",
    "\n",
    "print(findemail(\"hi i am navee my email is 2k21aids07@kiot.ac.in\"))\n",
    "print(emailCheck(\"2k21aids07@kiot.ac.in\"))\n",
    "print(emailCheck(\"2k21aid@s07@kiot.ac.in\"))"
   ]
  },
  {
   "cell_type": "code",
   "execution_count": null,
   "metadata": {},
   "outputs": [],
   "source": []
  }
 ],
 "metadata": {
  "kernelspec": {
   "display_name": "Python 3",
   "language": "python",
   "name": "python3"
  },
  "language_info": {
   "codemirror_mode": {
    "name": "ipython",
    "version": 3
   },
   "file_extension": ".py",
   "mimetype": "text/x-python",
   "name": "python",
   "nbconvert_exporter": "python",
   "pygments_lexer": "ipython3",
   "version": "3.10.12"
  }
 },
 "nbformat": 4,
 "nbformat_minor": 2
}
