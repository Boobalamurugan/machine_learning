{
 "cells": [
  {
   "cell_type": "markdown",
   "metadata": {},
   "source": [
    "### Definition of fn\n",
    "\n",
    "The fn is the block of code that can perform some task like add two numbers. Fn helps to organize the code , reuse the code and improve the readability"
   ]
  },
  {
   "cell_type": "code",
   "execution_count": 2,
   "metadata": {},
   "outputs": [
    {
     "name": "stdout",
     "output_type": "stream",
     "text": [
      "The number is Even\n"
     ]
    }
   ],
   "source": [
    "num=12\n",
    "if(num%2==0):\n",
    "\tprint(\"The number is Even\")\n",
    "else:\n",
    "\tprint(\"The number is Odd\")"
   ]
  },
  {
   "cell_type": "code",
   "execution_count": 3,
   "metadata": {},
   "outputs": [
    {
     "name": "stdout",
     "output_type": "stream",
     "text": [
      "The number is Odd\n"
     ]
    }
   ],
   "source": [
    "def even_or_odd(num):\n",
    "\t\"\"\"This Fn find odd or even from the given number\"\"\" \n",
    "\tif(num%2==0):\n",
    "\t\tprint(\"The number is Even\")\n",
    "\telse:\n",
    "\t\tprint(\"The number is Odd\")\n",
    "\n",
    "#call the function\n",
    "even_or_odd(7)"
   ]
  },
  {
   "cell_type": "markdown",
   "metadata": {},
   "source": [
    "### Parameters Of Fn\n",
    "\n",
    "Data can be passed into functions as arguments or parameters.Parameters are specified after the function name, inside the parentheses. You can add as many arguments as you want, just separate them with a comma."
   ]
  },
  {
   "cell_type": "code",
   "execution_count": 4,
   "metadata": {},
   "outputs": [
    {
     "name": "stdout",
     "output_type": "stream",
     "text": [
      "5\n"
     ]
    }
   ],
   "source": [
    "def add(a,b):\n",
    "\t\"\"\"This fn perform addition of given numbers\"\"\"\n",
    "\treturn a+b\n",
    "\n",
    "result=add(2,3)\n",
    "print(result)"
   ]
  },
  {
   "cell_type": "code",
   "execution_count": 5,
   "metadata": {},
   "outputs": [
    {
     "name": "stdout",
     "output_type": "stream",
     "text": [
      "5\n"
     ]
    }
   ],
   "source": [
    "print(add(2,3))"
   ]
  },
  {
   "cell_type": "markdown",
   "metadata": {},
   "source": [
    "### Default Parameters\n",
    "\n",
    "If we call the function without giving any parameter value it will run using default parameter values"
   ]
  },
  {
   "cell_type": "code",
   "execution_count": 5,
   "metadata": {},
   "outputs": [
    {
     "name": "stdout",
     "output_type": "stream",
     "text": [
      "Hello Naveen\n",
      "Hello John\n"
     ]
    }
   ],
   "source": [
    "def greet(name=\"Naveen\"):\n",
    "\tprint(f\"Hello {name}\")\n",
    "\n",
    "greet()\n",
    "greet(\"John\")"
   ]
  },
  {
   "cell_type": "markdown",
   "metadata": {},
   "source": [
    "## Variable Length args\n",
    "\n",
    "1.*args (Positional Arguments):\n",
    "\n",
    "*args allows you to pass a variable number of positional arguments to a function. It collects these arguments into a tuple.\n",
    "When you use *args in a function, you can call the function with any number of positional arguments, and they will be accessible within the function as a tuple.\n",
    "\n",
    "2.**kwargs (Keyword Arguments):\n",
    "\n",
    "**kwargs allows you to pass a variable number of keyword arguments to a function. It collects these arguments into a dictionary.\n",
    "When you use **kwargs, you can pass named arguments to the function, and they will be accessible within the function as key-value pairs in a dictionary."
   ]
  },
  {
   "cell_type": "code",
   "execution_count": 3,
   "metadata": {},
   "outputs": [
    {
     "name": "stdout",
     "output_type": "stream",
     "text": [
      "[1, 2, 3, 4]\n",
      "navee\n",
      "5\n",
      "{1: 2}\n"
     ]
    }
   ],
   "source": [
    "# Postional Argument\n",
    "\n",
    "def printNums(*args):\n",
    "    for nums in args:\n",
    "        print(nums)\n",
    "# printNums(1,2,3,4,\"navee\",5)\n",
    "printNums([1,2,3,4],\"navee\",5,{1:2})"
   ]
  },
  {
   "cell_type": "code",
   "execution_count": 9,
   "metadata": {},
   "outputs": [
    {
     "name": "stdout",
     "output_type": "stream",
     "text": [
      " name : naveen\n",
      " age : 12\n"
     ]
    }
   ],
   "source": [
    "def printDetails(**kwargs):\n",
    "    for key,value in kwargs.items():\n",
    "        print(f\" {key} : {value}\")\n",
    "\n",
    "printDetails(name=\"naveen\",age=12)"
   ]
  },
  {
   "cell_type": "markdown",
   "metadata": {},
   "source": [
    " #### NOTE:\n",
    " In Python, when defining a function that accepts both positional arguments (*args) and keyword arguments (**kwargs), the *args parameter must appear before **kwargs in the function signature.\n",
    " \n",
    " For example:\n",
    "\n",
    " ```\n",
    " def printNum_Details(**kwargs,*args):\n",
    "    for value in args:\n",
    "        print(f\"Postional args :{value}\")\n",
    "    for key,value in kwargs.items():\n",
    "        print(f\"{key}:{value}\")\n",
    "printNum_Details(ame=\"naveen\",age=12,[1,2,3,4],\"navee\",5,{1:2},n)\n",
    "```"
   ]
  },
  {
   "cell_type": "code",
   "execution_count": 12,
   "metadata": {},
   "outputs": [
    {
     "name": "stdout",
     "output_type": "stream",
     "text": [
      "Postional args :[1, 2, 3, 4]\n",
      "Postional args :navee\n",
      "Postional args :5\n",
      "Postional args :{1: 2}\n",
      "name:naveen\n",
      "age:12\n"
     ]
    }
   ],
   "source": [
    "def printNum_Details(*args,**kwargs):\n",
    "    for value in args:\n",
    "        print(f\"Postional args :{value}\")\n",
    "    for key,value in kwargs.items():\n",
    "        print(f\"{key}:{value}\")\n",
    "printNum_Details([1,2,3,4],\"navee\",5,{1:2},name=\"naveen\",age=12)"
   ]
  },
  {
   "cell_type": "markdown",
   "metadata": {},
   "source": [
    "### Return statement"
   ]
  },
  {
   "cell_type": "code",
   "execution_count": 16,
   "metadata": {},
   "outputs": [
    {
     "data": {
      "text/plain": [
       "(6, 2)"
      ]
     },
     "execution_count": 16,
     "metadata": {},
     "output_type": "execute_result"
    }
   ],
   "source": [
    "# we can return the multiple value like this \n",
    "\n",
    "def mutiple(x,y):\n",
    "    return x*y,x\n",
    "mutiple(2,3)"
   ]
  },
  {
   "cell_type": "code",
   "execution_count": null,
   "metadata": {},
   "outputs": [],
   "source": []
  }
 ],
 "metadata": {
  "kernelspec": {
   "display_name": "_venv",
   "language": "python",
   "name": "python3"
  },
  "language_info": {
   "codemirror_mode": {
    "name": "ipython",
    "version": 3
   },
   "file_extension": ".py",
   "mimetype": "text/x-python",
   "name": "python",
   "nbconvert_exporter": "python",
   "pygments_lexer": "ipython3",
   "version": "3.10.12"
  }
 },
 "nbformat": 4,
 "nbformat_minor": 2
}
